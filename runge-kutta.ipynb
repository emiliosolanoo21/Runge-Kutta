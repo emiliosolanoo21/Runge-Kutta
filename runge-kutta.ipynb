{
 "cells": [
  {
   "cell_type": "code",
   "execution_count": 1,
   "metadata": {},
   "outputs": [],
   "source": [
    "import numpy as np"
   ]
  },
  {
   "cell_type": "markdown",
   "metadata": {},
   "source": [
    "# Ejercicio 1"
   ]
  },
  {
   "cell_type": "code",
   "execution_count": 2,
   "metadata": {},
   "outputs": [],
   "source": [
    "def rk4_single(f, y0, t0, tf, h):\n",
    "    t = np.arange(t0, tf, h)\n",
    "    y = np.zeros(len(t))\n",
    "    y[0] = y0\n",
    "    for i in range(1, len(t)):\n",
    "        k1 = h * f(t[i-1], y[i-1])\n",
    "        k2 = h * f(t[i-1] + h/2, y[i-1] + k1/2)\n",
    "        k3 = h * f(t[i-1] + h/2, y[i-1] + k2/2)\n",
    "        k4 = h * f(t[i-1] + h, y[i-1] + k3)\n",
    "        y[i] = y[i-1] + (k1 + 2*k2 + 2*k3 + k4) / 6\n",
    "    return t, y"
   ]
  },
  {
   "cell_type": "code",
   "execution_count": 3,
   "metadata": {},
   "outputs": [],
   "source": [
    "def rk4_system(f, y0, t0, tf, h):\n",
    "    t = np.arange(t0, tf, h)\n",
    "    y = np.zeros((len(t), len(y0)))\n",
    "    y[0] = y0\n",
    "    for i in range(1, len(t)):\n",
    "        k1 = h * np.array(f(t[i-1], y[i-1]))\n",
    "        k2 = h * np.array(f(t[i-1] + h/2, y[i-1] + k1/2))\n",
    "        k3 = h * np.array(f(t[i-1] + h/2, y[i-1] + k2/2))\n",
    "        k4 = h * np.array(f(t[i-1] + h, y[i-1] + k3))\n",
    "        y[i] = y[i-1] + (k1 + 2*k2 + 2*k3 + k4) / 6\n",
    "    return t, y"
   ]
  },
  {
   "cell_type": "markdown",
   "metadata": {},
   "source": [
    "# Ejercicio 2"
   ]
  },
  {
   "cell_type": "code",
   "execution_count": null,
   "metadata": {},
   "outputs": [],
   "source": []
  }
 ],
 "metadata": {
  "kernelspec": {
   "display_name": "Python 3",
   "language": "python",
   "name": "python3"
  },
  "language_info": {
   "codemirror_mode": {
    "name": "ipython",
    "version": 3
   },
   "file_extension": ".py",
   "mimetype": "text/x-python",
   "name": "python",
   "nbconvert_exporter": "python",
   "pygments_lexer": "ipython3",
   "version": "3.12.3"
  }
 },
 "nbformat": 4,
 "nbformat_minor": 2
}
